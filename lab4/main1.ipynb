{
 "cells": [
  {
   "cell_type": "code",
   "execution_count": 1,
   "metadata": {},
   "outputs": [
    {
     "name": "stderr",
     "output_type": "stream",
     "text": [
      "2021-12-07 12:07:47.583879: W tensorflow/stream_executor/platform/default/dso_loader.cc:64] Could not load dynamic library 'libcudart.so.11.0'; dlerror: libcudart.so.11.0: cannot open shared object file: No such file or directory\n",
      "2021-12-07 12:07:47.583948: I tensorflow/stream_executor/cuda/cudart_stub.cc:29] Ignore above cudart dlerror if you do not have a GPU set up on your machine.\n"
     ]
    }
   ],
   "source": [
    "import numpy as np\n",
    "import pandas as pd\n",
    "from tensorflow import keras\n",
    "from tensorflow.keras.layers import Dense\n",
    "from tensorflow.keras.models import Sequential\n",
    "from tensorflow.keras.wrappers.scikit_learn import KerasClassifier\n",
    "from sklearn.model_selection import train_test_split\n"
   ]
  },
  {
   "cell_type": "code",
   "execution_count": 2,
   "metadata": {},
   "outputs": [],
   "source": [
    "df = pd.read_csv('genre.csv')\n",
    "\n",
    "# прбираємо перші два стовпці \n",
    "df = df.iloc[:, 2:]\n",
    "\n",
    "# вибираємо лише ті строки, \n",
    "# в яких мітки класів рівняються 5 і 10 \n",
    "# що відповідають жанрам HipHop і Rock відповідно\n",
    "df = df.query('Class == 5 | Class == 10').reset_index(drop=True)\n",
    "\n",
    "# for col in df.columns:\n",
    "#     pct_missing = np.mean(df[col].isnull())\n",
    "#     print('{} - {}%'.format(col, round(pct_missing*100)))\n",
    "\n",
    "df['Popularity'] = df['Popularity'].fillna(df['Popularity'].median())\n",
    "df['key'] = df['key'].fillna(df['key'].median())\n",
    "df['instrumentalness'] = df['instrumentalness'].fillna(df['instrumentalness'].median())\n",
    "\n",
    "# змінюємо мітки класів\n",
    "# HipHop: 0\n",
    "# Rock: 1\n",
    "df.loc[df['Class'] == 5, 'Class'] = 0\n",
    "df.loc[df['Class'] == 10, 'Class'] = 1\n",
    "\n",
    "X = df.drop(['Class'], axis = 1)\n",
    "y = df['Class']"
   ]
  },
  {
   "cell_type": "code",
   "execution_count": 3,
   "metadata": {},
   "outputs": [],
   "source": [
    "from sklearn.preprocessing import MinMaxScaler\n",
    "scaler = MinMaxScaler(feature_range=(0, 1))\n",
    "\n",
    "X_norm = scaler.fit_transform(X)\n",
    "x_train, x_test, y_train, y_test = train_test_split(X_norm, y, test_size=0.33, random_state=42)"
   ]
  },
  {
   "cell_type": "code",
   "execution_count": 4,
   "metadata": {},
   "outputs": [],
   "source": [
    "def build_encoder():\n",
    "    model =Sequential()\n",
    "    model.add(Dense(128, input_dim = 14, activation='relu'))\n",
    "    model.add(Dense(64, activation='relu'))\n",
    "    model.add(Dense(32, activation='relu'))\n",
    "    model.add(Dense(16, activation='relu'))\n",
    "    model.add(Dense(4, activation='relu'))\n",
    "    model.add(Dense(1, activation='sigmoid'))\n",
    "    model.compile(loss='binary_crossentropy')\n",
    "    return model"
   ]
  },
  {
   "cell_type": "code",
   "execution_count": 5,
   "metadata": {},
   "outputs": [
    {
     "name": "stderr",
     "output_type": "stream",
     "text": [
      "/tmp/ipykernel_2476/3814776099.py:1: DeprecationWarning: KerasClassifier is deprecated, use Sci-Keras (https://github.com/adriangb/scikeras) instead.\n",
      "  clf = KerasClassifier(build_encoder, epochs=30, batch_size=8)\n",
      "2021-12-07 12:07:50.358376: W tensorflow/stream_executor/platform/default/dso_loader.cc:64] Could not load dynamic library 'libcuda.so.1'; dlerror: libcuda.so.1: cannot open shared object file: No such file or directory\n",
      "2021-12-07 12:07:50.358549: W tensorflow/stream_executor/cuda/cuda_driver.cc:269] failed call to cuInit: UNKNOWN ERROR (303)\n",
      "2021-12-07 12:07:50.358624: I tensorflow/stream_executor/cuda/cuda_diagnostics.cc:156] kernel driver does not appear to be running on this host (DESKTOP-RJ3H6A8): /proc/driver/nvidia/version does not exist\n",
      "2021-12-07 12:07:50.359059: I tensorflow/core/platform/cpu_feature_guard.cc:151] This TensorFlow binary is optimized with oneAPI Deep Neural Network Library (oneDNN) to use the following CPU instructions in performance-critical operations:  AVX2 FMA\n",
      "To enable them in other operations, rebuild TensorFlow with the appropriate compiler flags.\n"
     ]
    },
    {
     "name": "stdout",
     "output_type": "stream",
     "text": [
      "Epoch 1/30\n",
      "536/536 [==============================] - 2s 2ms/step - loss: 0.3123\n",
      "Epoch 2/30\n",
      "536/536 [==============================] - 1s 2ms/step - loss: 0.2220\n",
      "Epoch 3/30\n",
      "536/536 [==============================] - 1s 2ms/step - loss: 0.2067\n",
      "Epoch 4/30\n",
      "536/536 [==============================] - 1s 2ms/step - loss: 0.2023\n",
      "Epoch 5/30\n",
      "536/536 [==============================] - 1s 2ms/step - loss: 0.2010\n",
      "Epoch 6/30\n",
      "536/536 [==============================] - 1s 2ms/step - loss: 0.1936\n",
      "Epoch 7/30\n",
      "536/536 [==============================] - 1s 2ms/step - loss: 0.1937\n",
      "Epoch 8/30\n",
      "536/536 [==============================] - 1s 2ms/step - loss: 0.1929\n",
      "Epoch 9/30\n",
      "536/536 [==============================] - 1s 2ms/step - loss: 0.1843\n",
      "Epoch 10/30\n",
      "536/536 [==============================] - 1s 2ms/step - loss: 0.1898\n",
      "Epoch 11/30\n",
      "536/536 [==============================] - 1s 2ms/step - loss: 0.1887\n",
      "Epoch 12/30\n",
      "536/536 [==============================] - 1s 2ms/step - loss: 0.1837\n",
      "Epoch 13/30\n",
      "536/536 [==============================] - 1s 2ms/step - loss: 0.1841\n",
      "Epoch 14/30\n",
      "536/536 [==============================] - 1s 2ms/step - loss: 0.1816\n",
      "Epoch 15/30\n",
      "536/536 [==============================] - 1s 2ms/step - loss: 0.1824\n",
      "Epoch 16/30\n",
      "536/536 [==============================] - 1s 2ms/step - loss: 0.1811\n",
      "Epoch 17/30\n",
      "536/536 [==============================] - 1s 2ms/step - loss: 0.1820\n",
      "Epoch 18/30\n",
      "536/536 [==============================] - 1s 2ms/step - loss: 0.1825\n",
      "Epoch 19/30\n",
      "536/536 [==============================] - 1s 2ms/step - loss: 0.1809\n",
      "Epoch 20/30\n",
      "536/536 [==============================] - 1s 2ms/step - loss: 0.1829\n",
      "Epoch 21/30\n",
      "536/536 [==============================] - 1s 2ms/step - loss: 0.1751\n",
      "Epoch 22/30\n",
      "536/536 [==============================] - 1s 2ms/step - loss: 0.1789\n",
      "Epoch 23/30\n",
      "536/536 [==============================] - 1s 2ms/step - loss: 0.1800\n",
      "Epoch 24/30\n",
      "536/536 [==============================] - 1s 2ms/step - loss: 0.1803\n",
      "Epoch 25/30\n",
      "536/536 [==============================] - 1s 2ms/step - loss: 0.1750\n",
      "Epoch 26/30\n",
      "536/536 [==============================] - 1s 2ms/step - loss: 0.1789\n",
      "Epoch 27/30\n",
      "536/536 [==============================] - 1s 2ms/step - loss: 0.1760\n",
      "Epoch 28/30\n",
      "536/536 [==============================] - 1s 2ms/step - loss: 0.1824\n",
      "Epoch 29/30\n",
      "536/536 [==============================] - 1s 2ms/step - loss: 0.1794\n",
      "Epoch 30/30\n",
      "536/536 [==============================] - 1s 2ms/step - loss: 0.1782\n"
     ]
    },
    {
     "data": {
      "text/plain": [
       "<keras.callbacks.History at 0x7fdd436c6160>"
      ]
     },
     "execution_count": 5,
     "metadata": {},
     "output_type": "execute_result"
    }
   ],
   "source": [
    "clf = KerasClassifier(build_encoder, epochs=30, batch_size=8)\n",
    "clf.fit(x_train, y_train)"
   ]
  },
  {
   "cell_type": "code",
   "execution_count": 6,
   "metadata": {},
   "outputs": [
    {
     "data": {
      "text/plain": [
       "array([0.93652297])"
      ]
     },
     "execution_count": 6,
     "metadata": {},
     "output_type": "execute_result"
    }
   ],
   "source": [
    "y_tt = clf.predict(x_test)\n",
    "1 - sum([abs(y1 - y2) for y1, y2 in zip(y_tt, y_test)]) / len(y_test)"
   ]
  }
 ],
 "metadata": {
  "interpreter": {
   "hash": "f9f85f796d01129d0dd105a088854619f454435301f6ffec2fea96ecbd9be4ac"
  },
  "kernelspec": {
   "display_name": "Python 3.9.9 64-bit",
   "language": "python",
   "name": "python3"
  },
  "language_info": {
   "codemirror_mode": {
    "name": "ipython",
    "version": 3
   },
   "file_extension": ".py",
   "mimetype": "text/x-python",
   "name": "python",
   "nbconvert_exporter": "python",
   "pygments_lexer": "ipython3",
   "version": "3.9.9"
  },
  "orig_nbformat": 4
 },
 "nbformat": 4,
 "nbformat_minor": 2
}
