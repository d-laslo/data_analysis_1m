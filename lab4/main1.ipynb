{
 "cells": [
  {
   "cell_type": "code",
   "execution_count": 31,
   "metadata": {},
   "outputs": [],
   "source": [
    "import numpy as np\n",
    "from tensorflow import keras\n",
    "from tensorflow.keras.layers import Dense, Activation\n",
    "from tensorflow.keras.models import Sequential"
   ]
  },
  {
   "cell_type": "code",
   "execution_count": 90,
   "metadata": {},
   "outputs": [],
   "source": [
    "from keras.utils import np_utils\n",
    "from tensorflow.keras.layers import Dense, Conv2D, Dropout, BatchNormalization, MaxPooling2D, Flatten\n",
    "from keras.constraints import maxnorm"
   ]
  },
  {
   "cell_type": "code",
   "execution_count": 72,
   "metadata": {},
   "outputs": [
    {
     "name": "stdout",
     "output_type": "stream",
     "text": [
      "Downloading data from https://www.cs.toronto.edu/~kriz/cifar-100-python.tar.gz\n",
      "169009152/169001437 [==============================] - 1034s 6us/step\n",
      "169017344/169001437 [==============================] - 1034s 6us/step\n"
     ]
    }
   ],
   "source": [
    "(x_train, y_train), (x_test, y_test) = keras.datasets.cifar100.load_data()"
   ]
  },
  {
   "cell_type": "code",
   "execution_count": 74,
   "metadata": {},
   "outputs": [
    {
     "name": "stdout",
     "output_type": "stream",
     "text": [
      "x_train.shape=(50000, 32, 32, 3)\n",
      "x_test.shape=(10000, 32, 32, 3)\n",
      "len(y_train)=50000\n",
      "len(y_test)=10000\n"
     ]
    }
   ],
   "source": [
    "print(f'{x_train.shape=}')\n",
    "\n",
    "print(f'{x_test.shape=}')\n",
    "\n",
    "print(f'{len(y_train)=}')\n",
    "\n",
    "print(f'{len(y_test)=}')"
   ]
  },
  {
   "cell_type": "code",
   "execution_count": 75,
   "metadata": {},
   "outputs": [],
   "source": [
    "x_train = x_train.astype('float32')\n",
    "x_test = x_test.astype('float32')\n",
    "x_train = x_train / 255.0\n",
    "x_test = x_test / 255.0"
   ]
  },
  {
   "cell_type": "code",
   "execution_count": 78,
   "metadata": {},
   "outputs": [],
   "source": [
    "y_train = np_utils.to_categorical(y_train)\n",
    "y_test = np_utils.to_categorical(y_test)"
   ]
  },
  {
   "cell_type": "code",
   "execution_count": 92,
   "metadata": {},
   "outputs": [],
   "source": [
    "alpha = 0.02"
   ]
  },
  {
   "cell_type": "code",
   "execution_count": 94,
   "metadata": {},
   "outputs": [],
   "source": [
    "model = Sequential()\n",
    "model.add(Conv2D(32, (3, 3), input_shape=x_train.shape[1:], padding='same'))\n",
    "model.add(Activation('relu'))\n",
    "model.add(Dropout(0.2))\n",
    "model.add(BatchNormalization())\n",
    "model.add(Conv2D(64, (3, 3), padding='same'))\n",
    "model.add(Activation('relu'))\n",
    "model.add(MaxPooling2D(pool_size=(2, 2)))\n",
    "model.add(Dropout(0.2))\n",
    "model.add(BatchNormalization())\n",
    "\n",
    "model.add(Conv2D(128, (3, 3), padding='same'))\n",
    "model.add(Activation('relu'))\n",
    "model.add(Dropout(0.2))\n",
    "model.add(BatchNormalization())\n",
    "\n",
    "model.add(Flatten())\n",
    "model.add(Dropout(0.2))\n",
    "\n",
    "model.add(Dense(256, kernel_constraint=maxnorm(3)))\n",
    "model.add(Activation('relu'))\n",
    "model.add(Dropout(0.2))\n",
    "model.add(BatchNormalization())\n",
    "    \n",
    "model.add(Dense(128, kernel_constraint=maxnorm(3)))\n",
    "model.add(Activation('relu'))\n",
    "model.add(Dropout(0.2))\n",
    "model.add(BatchNormalization())\n",
    "\n",
    "model.add(Dense(100))\n",
    "model.add(Activation('softmax'))"
   ]
  },
  {
   "cell_type": "code",
   "execution_count": 97,
   "metadata": {},
   "outputs": [],
   "source": [
    "epochs = 20\n",
    "optimizer = 'adam'\n",
    "model.compile(loss='categorical_crossentropy', optimizer=optimizer, metrics=['accuracy'])\n"
   ]
  },
  {
   "cell_type": "code",
   "execution_count": 98,
   "metadata": {},
   "outputs": [
    {
     "name": "stdout",
     "output_type": "stream",
     "text": [
      "Epoch 1/20\n",
      "391/391 [==============================] - 176s 445ms/step - loss: 3.7518 - accuracy: 0.1375 - val_loss: 7.1932 - val_accuracy: 0.0183\n",
      "Epoch 2/20\n",
      "391/391 [==============================] - 185s 474ms/step - loss: 2.9350 - accuracy: 0.2742 - val_loss: 2.8308 - val_accuracy: 0.2937\n",
      "Epoch 3/20\n",
      "391/391 [==============================] - 183s 469ms/step - loss: 2.5620 - accuracy: 0.3418 - val_loss: 2.4315 - val_accuracy: 0.3771\n",
      "Epoch 4/20\n",
      "391/391 [==============================] - 190s 485ms/step - loss: 2.3613 - accuracy: 0.3841 - val_loss: 2.2759 - val_accuracy: 0.4023\n",
      "Epoch 5/20\n",
      "391/391 [==============================] - 186s 476ms/step - loss: 2.2360 - accuracy: 0.4102 - val_loss: 2.2748 - val_accuracy: 0.4045\n",
      "Epoch 6/20\n",
      "391/391 [==============================] - 183s 469ms/step - loss: 2.1463 - accuracy: 0.4273 - val_loss: 2.3047 - val_accuracy: 0.4032\n",
      "Epoch 7/20\n",
      "391/391 [==============================] - 205s 525ms/step - loss: 2.0657 - accuracy: 0.4457 - val_loss: 2.1926 - val_accuracy: 0.4267\n",
      "Epoch 8/20\n",
      "391/391 [==============================] - 193s 495ms/step - loss: 1.9994 - accuracy: 0.4624 - val_loss: 2.1204 - val_accuracy: 0.4416\n",
      "Epoch 9/20\n",
      "391/391 [==============================] - 176s 450ms/step - loss: 1.9391 - accuracy: 0.4746 - val_loss: 2.2173 - val_accuracy: 0.4224\n",
      "Epoch 10/20\n",
      "391/391 [==============================] - 196s 502ms/step - loss: 1.8866 - accuracy: 0.4843 - val_loss: 2.0480 - val_accuracy: 0.4564\n",
      "Epoch 11/20\n",
      "391/391 [==============================] - 182s 466ms/step - loss: 1.8466 - accuracy: 0.4967 - val_loss: 2.1295 - val_accuracy: 0.4379\n",
      "Epoch 12/20\n",
      "391/391 [==============================] - 186s 477ms/step - loss: 1.8031 - accuracy: 0.5052 - val_loss: 2.0749 - val_accuracy: 0.4503\n",
      "Epoch 13/20\n",
      "391/391 [==============================] - 183s 467ms/step - loss: 1.7591 - accuracy: 0.5159 - val_loss: 2.0827 - val_accuracy: 0.4578\n",
      "Epoch 14/20\n",
      "391/391 [==============================] - 180s 459ms/step - loss: 1.7329 - accuracy: 0.5225 - val_loss: 2.0966 - val_accuracy: 0.4487\n",
      "Epoch 15/20\n",
      "391/391 [==============================] - 181s 463ms/step - loss: 1.7035 - accuracy: 0.5284 - val_loss: 1.9747 - val_accuracy: 0.4734\n",
      "Epoch 16/20\n",
      "391/391 [==============================] - 172s 440ms/step - loss: 1.6801 - accuracy: 0.5356 - val_loss: 2.0444 - val_accuracy: 0.4657\n",
      "Epoch 17/20\n",
      "391/391 [==============================] - 184s 472ms/step - loss: 1.6521 - accuracy: 0.5439 - val_loss: 2.0727 - val_accuracy: 0.4547\n",
      "Epoch 18/20\n",
      "391/391 [==============================] - 202s 518ms/step - loss: 1.6309 - accuracy: 0.5455 - val_loss: 1.9858 - val_accuracy: 0.4745\n",
      "Epoch 19/20\n",
      "391/391 [==============================] - 201s 514ms/step - loss: 1.6147 - accuracy: 0.5478 - val_loss: 2.0190 - val_accuracy: 0.4724\n",
      "Epoch 20/20\n",
      "391/391 [==============================] - 202s 517ms/step - loss: 1.5893 - accuracy: 0.5554 - val_loss: 2.0984 - val_accuracy: 0.4611\n"
     ]
    },
    {
     "data": {
      "text/plain": [
       "<keras.callbacks.History at 0x7f7871b17820>"
      ]
     },
     "execution_count": 98,
     "metadata": {},
     "output_type": "execute_result"
    }
   ],
   "source": [
    "np.random.seed(42)\n",
    "model.fit(x_train, y_train, validation_data=(x_test, y_test), epochs=epochs, batch_size=128)"
   ]
  },
  {
   "cell_type": "code",
   "execution_count": 99,
   "metadata": {},
   "outputs": [
    {
     "name": "stdout",
     "output_type": "stream",
     "text": [
      "Accuracy: 0.4611000120639801\n"
     ]
    }
   ],
   "source": [
    "scores = model.evaluate(x_test, y_test, verbose=0)\n",
    "print(f'Accuracy: {scores[1]}')"
   ]
  }
 ],
 "metadata": {
  "interpreter": {
   "hash": "f9f85f796d01129d0dd105a088854619f454435301f6ffec2fea96ecbd9be4ac"
  },
  "kernelspec": {
   "display_name": "Python 3.9.7 64-bit",
   "language": "python",
   "name": "python3"
  },
  "language_info": {
   "codemirror_mode": {
    "name": "ipython",
    "version": 3
   },
   "file_extension": ".py",
   "mimetype": "text/x-python",
   "name": "python",
   "nbconvert_exporter": "python",
   "pygments_lexer": "ipython3",
   "version": "3.9.9"
  },
  "orig_nbformat": 4
 },
 "nbformat": 4,
 "nbformat_minor": 2
}
