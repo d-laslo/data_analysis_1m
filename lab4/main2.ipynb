{
 "cells": [
  {
   "cell_type": "code",
   "execution_count": 13,
   "metadata": {},
   "outputs": [],
   "source": [
    "import numpy as np\n",
    "import pandas as pd\n",
    "from tensorflow import keras\n",
    "from tensorflow.keras.layers import Dense, Embedding, Conv1D, GlobalMaxPooling1D\n",
    "from tensorflow.keras.models import Sequential\n",
    "from tensorflow.keras.preprocessing.text import Tokenizer\n",
    "from sklearn.model_selection import train_test_split\n",
    "from keras.utils import np_utils\n",
    "from tensorflow.keras.preprocessing.sequence import pad_sequences\n",
    "\n",
    "\n",
    "\n"
   ]
  },
  {
   "cell_type": "code",
   "execution_count": 5,
   "metadata": {},
   "outputs": [],
   "source": [
    "df = pd.read_csv('Emotion_final.csv')"
   ]
  },
  {
   "cell_type": "code",
   "execution_count": 6,
   "metadata": {},
   "outputs": [],
   "source": [
    "labels = sorted(list(set(df.Emotion)))\n",
    "for i in range(len(labels)):\n",
    "    df.Emotion[df.Emotion == labels[i]] = i"
   ]
  },
  {
   "cell_type": "code",
   "execution_count": 7,
   "metadata": {},
   "outputs": [
    {
     "data": {
      "text/plain": [
       "{0: 'anger', 1: 'fear', 2: 'happy', 3: 'love', 4: 'sadness', 5: 'surprise'}"
      ]
     },
     "execution_count": 7,
     "metadata": {},
     "output_type": "execute_result"
    }
   ],
   "source": [
    "labels_map = {i: labels[i] for i in range(len(labels))}\n",
    "labels_map"
   ]
  },
  {
   "cell_type": "code",
   "execution_count": 8,
   "metadata": {},
   "outputs": [],
   "source": [
    "X = df['Text']\n",
    "y = df['Emotion']\n",
    "\n",
    "X_train, X_test, y_train, y_test = train_test_split(X, y, test_size=0.33, random_state=42)"
   ]
  },
  {
   "cell_type": "code",
   "execution_count": 9,
   "metadata": {},
   "outputs": [],
   "source": [
    "y_train = np_utils.to_categorical(y_train, len(labels))\n",
    "y_test = np_utils.to_categorical(y_test, len(labels))"
   ]
  },
  {
   "cell_type": "code",
   "execution_count": 10,
   "metadata": {},
   "outputs": [
    {
     "data": {
      "text/plain": [
       "9586     i had not yet gotten married and that coupled ...\n",
       "5847     im feeling cautiously optimistic about the dir...\n",
       "1681     i felt such a resonance with your words i feel...\n",
       "1452     i like this so much but i feel like somehow th...\n",
       "15890    i don t feel particularly passionate as i once...\n",
       "Name: Text, dtype: object"
      ]
     },
     "execution_count": 10,
     "metadata": {},
     "output_type": "execute_result"
    }
   ],
   "source": [
    "X_train[:5]"
   ]
  },
  {
   "cell_type": "code",
   "execution_count": 12,
   "metadata": {},
   "outputs": [],
   "source": [
    "tokenizer = Tokenizer(num_words=10000 )\n",
    "tokenizer.fit_on_texts(X_train)"
   ]
  },
  {
   "cell_type": "code",
   "execution_count": 14,
   "metadata": {},
   "outputs": [],
   "source": [
    "x_train = tokenizer.texts_to_sequences(X_train)\n",
    "x_train = pad_sequences(x_train, maxlen=30)"
   ]
  },
  {
   "cell_type": "code",
   "execution_count": 19,
   "metadata": {},
   "outputs": [],
   "source": [
    "model = Sequential()\n",
    "model.add(Embedding(10000, 32, input_length=30))\n",
    "model.add(Conv1D(250, 5, padding='valid', activation='relu'))\n",
    "model.add(GlobalMaxPooling1D())\n",
    "model.add(Dense(128, activation='relu'))\n",
    "model.add(Dense(len(labels), activation='softmax'))"
   ]
  },
  {
   "cell_type": "code",
   "execution_count": 20,
   "metadata": {},
   "outputs": [],
   "source": [
    "model.compile(\n",
    "    optimizer='adam',\n",
    "    loss='categorical_crossentropy',\n",
    "    metrics=['accuracy']\n",
    ")"
   ]
  },
  {
   "cell_type": "code",
   "execution_count": 21,
   "metadata": {},
   "outputs": [
    {
     "name": "stdout",
     "output_type": "stream",
     "text": [
      "Epoch 1/20\n",
      "450/450 [==============================] - 5s 8ms/step - loss: 1.0814 - accuracy: 0.5763\n",
      "Epoch 2/20\n",
      "450/450 [==============================] - 4s 8ms/step - loss: 0.3143 - accuracy: 0.8896\n",
      "Epoch 3/20\n",
      "450/450 [==============================] - 3s 7ms/step - loss: 0.1540 - accuracy: 0.9451\n",
      "Epoch 4/20\n",
      "450/450 [==============================] - 3s 7ms/step - loss: 0.0769 - accuracy: 0.9713\n",
      "Epoch 5/20\n",
      "450/450 [==============================] - 3s 7ms/step - loss: 0.0441 - accuracy: 0.9847\n",
      "Epoch 6/20\n",
      "450/450 [==============================] - 3s 7ms/step - loss: 0.0275 - accuracy: 0.9910\n",
      "Epoch 7/20\n",
      "450/450 [==============================] - 3s 7ms/step - loss: 0.0202 - accuracy: 0.9938\n",
      "Epoch 8/20\n",
      "450/450 [==============================] - 4s 8ms/step - loss: 0.0189 - accuracy: 0.9939\n",
      "Epoch 9/20\n",
      "450/450 [==============================] - 3s 7ms/step - loss: 0.0141 - accuracy: 0.9963\n",
      "Epoch 10/20\n",
      "450/450 [==============================] - 3s 8ms/step - loss: 0.0139 - accuracy: 0.9957\n",
      "Epoch 11/20\n",
      "450/450 [==============================] - 3s 7ms/step - loss: 0.0189 - accuracy: 0.9940\n",
      "Epoch 12/20\n",
      "450/450 [==============================] - 3s 7ms/step - loss: 0.0169 - accuracy: 0.9946\n",
      "Epoch 13/20\n",
      "450/450 [==============================] - 3s 7ms/step - loss: 0.0146 - accuracy: 0.9957\n",
      "Epoch 14/20\n",
      "450/450 [==============================] - 3s 8ms/step - loss: 0.0119 - accuracy: 0.9965\n",
      "Epoch 15/20\n",
      "450/450 [==============================] - 3s 7ms/step - loss: 0.0099 - accuracy: 0.9970\n",
      "Epoch 16/20\n",
      "450/450 [==============================] - 3s 8ms/step - loss: 0.0074 - accuracy: 0.9975\n",
      "Epoch 17/20\n",
      "450/450 [==============================] - 3s 8ms/step - loss: 0.0079 - accuracy: 0.9975\n",
      "Epoch 18/20\n",
      "450/450 [==============================] - 3s 8ms/step - loss: 0.0088 - accuracy: 0.9970\n",
      "Epoch 19/20\n",
      "450/450 [==============================] - 3s 8ms/step - loss: 0.0085 - accuracy: 0.9967\n",
      "Epoch 20/20\n",
      "450/450 [==============================] - 4s 8ms/step - loss: 0.0083 - accuracy: 0.9968\n"
     ]
    },
    {
     "data": {
      "text/plain": [
       "<keras.callbacks.History at 0x7f7d41f51160>"
      ]
     },
     "execution_count": 21,
     "metadata": {},
     "output_type": "execute_result"
    }
   ],
   "source": [
    "model.fit(x_train, y_train, batch_size=32, epochs=20)"
   ]
  },
  {
   "cell_type": "code",
   "execution_count": 22,
   "metadata": {},
   "outputs": [],
   "source": [
    "x_test = tokenizer.texts_to_sequences(X_test)\n",
    "x_test = pad_sequences(x_test, maxlen=30)"
   ]
  },
  {
   "cell_type": "code",
   "execution_count": 23,
   "metadata": {},
   "outputs": [
    {
     "name": "stdout",
     "output_type": "stream",
     "text": [
      "222/222 [==============================] - 1s 4ms/step - loss: 0.8328 - accuracy: 0.8750\n",
      "Accuracy: 0.875035285949707\n"
     ]
    }
   ],
   "source": [
    "scores = model.evaluate(x_test, y_test)\n",
    "print(f'Accuracy: {scores[1]}')"
   ]
  }
 ],
 "metadata": {
  "interpreter": {
   "hash": "f9f85f796d01129d0dd105a088854619f454435301f6ffec2fea96ecbd9be4ac"
  },
  "kernelspec": {
   "display_name": "Python 3.9.9 64-bit",
   "language": "python",
   "name": "python3"
  },
  "language_info": {
   "codemirror_mode": {
    "name": "ipython",
    "version": 3
   },
   "file_extension": ".py",
   "mimetype": "text/x-python",
   "name": "python",
   "nbconvert_exporter": "python",
   "pygments_lexer": "ipython3",
   "version": "3.9.9"
  },
  "orig_nbformat": 4
 },
 "nbformat": 4,
 "nbformat_minor": 2
}
