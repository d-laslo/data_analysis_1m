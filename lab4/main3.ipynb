{
 "cells": [
  {
   "cell_type": "code",
   "execution_count": 16,
   "metadata": {},
   "outputs": [],
   "source": [
    "import numpy as np\n",
    "import pandas as pd\n",
    "from tensorflow import keras\n",
    "from tensorflow.keras.layers import Embedding, LSTM, Dense\n",
    "from tensorflow.keras.models import Sequential\n",
    "from tensorflow.keras.preprocessing.text import Tokenizer\n",
    "from sklearn.model_selection import train_test_split\n",
    "from keras.utils import np_utils\n",
    "from tensorflow.keras.preprocessing.sequence import pad_sequences\n",
    "\n",
    "\n",
    "\n"
   ]
  },
  {
   "cell_type": "code",
   "execution_count": 17,
   "metadata": {},
   "outputs": [],
   "source": [
    "df = pd.read_csv('Emotion_final.csv')"
   ]
  },
  {
   "cell_type": "code",
   "execution_count": 18,
   "metadata": {},
   "outputs": [],
   "source": [
    "labels = sorted(list(set(df.Emotion)))\n",
    "for i in range(len(labels)):\n",
    "    df.Emotion[df.Emotion == labels[i]] = i"
   ]
  },
  {
   "cell_type": "code",
   "execution_count": 19,
   "metadata": {},
   "outputs": [
    {
     "data": {
      "text/plain": [
       "{0: 'anger', 1: 'fear', 2: 'happy', 3: 'love', 4: 'sadness', 5: 'surprise'}"
      ]
     },
     "execution_count": 19,
     "metadata": {},
     "output_type": "execute_result"
    }
   ],
   "source": [
    "labels_map = {i: labels[i] for i in range(len(labels))}\n",
    "labels_map"
   ]
  },
  {
   "cell_type": "code",
   "execution_count": 20,
   "metadata": {},
   "outputs": [],
   "source": [
    "X = df['Text']\n",
    "y = df['Emotion']\n",
    "\n",
    "X_train, X_test, y_train, y_test = train_test_split(X, y, test_size=0.33, random_state=42)"
   ]
  },
  {
   "cell_type": "code",
   "execution_count": 21,
   "metadata": {},
   "outputs": [],
   "source": [
    "y_train = np_utils.to_categorical(y_train, len(labels))\n",
    "y_test = np_utils.to_categorical(y_test, len(labels))"
   ]
  },
  {
   "cell_type": "code",
   "execution_count": 22,
   "metadata": {},
   "outputs": [
    {
     "data": {
      "text/plain": [
       "9586     i had not yet gotten married and that coupled ...\n",
       "5847     im feeling cautiously optimistic about the dir...\n",
       "1681     i felt such a resonance with your words i feel...\n",
       "1452     i like this so much but i feel like somehow th...\n",
       "15890    i don t feel particularly passionate as i once...\n",
       "Name: Text, dtype: object"
      ]
     },
     "execution_count": 22,
     "metadata": {},
     "output_type": "execute_result"
    }
   ],
   "source": [
    "X_train[:5]"
   ]
  },
  {
   "cell_type": "code",
   "execution_count": 23,
   "metadata": {},
   "outputs": [],
   "source": [
    "tokenizer = Tokenizer(num_words=10000 )\n",
    "tokenizer.fit_on_texts(X_train)"
   ]
  },
  {
   "cell_type": "code",
   "execution_count": 24,
   "metadata": {},
   "outputs": [],
   "source": [
    "x_train = tokenizer.texts_to_sequences(X_train)\n",
    "x_train = pad_sequences(x_train, maxlen=30)"
   ]
  },
  {
   "cell_type": "code",
   "execution_count": 25,
   "metadata": {},
   "outputs": [],
   "source": [
    "model = Sequential()\n",
    "model.add(Embedding(10000, 32, input_length=30))\n",
    "model.add(LSTM(16))\n",
    "model.add(Dense(len(labels), activation='softmax'))"
   ]
  },
  {
   "cell_type": "code",
   "execution_count": 26,
   "metadata": {},
   "outputs": [],
   "source": [
    "model.compile(\n",
    "    optimizer='adam',\n",
    "    loss='categorical_crossentropy',\n",
    "    metrics=['accuracy']\n",
    ")"
   ]
  },
  {
   "cell_type": "code",
   "execution_count": 27,
   "metadata": {},
   "outputs": [],
   "source": [
    "x_test = tokenizer.texts_to_sequences(X_test)\n",
    "x_test = pad_sequences(x_test, maxlen=30)"
   ]
  },
  {
   "cell_type": "code",
   "execution_count": 28,
   "metadata": {},
   "outputs": [
    {
     "name": "stdout",
     "output_type": "stream",
     "text": [
      "Epoch 1/20\n",
      "450/450 [==============================] - 10s 18ms/step - loss: 1.4031 - accuracy: 0.4415 - val_loss: 0.9650 - val_accuracy: 0.6837\n",
      "Epoch 2/20\n",
      "450/450 [==============================] - 8s 18ms/step - loss: 0.7042 - accuracy: 0.7441 - val_loss: 0.6796 - val_accuracy: 0.7499\n",
      "Epoch 3/20\n",
      "450/450 [==============================] - 8s 18ms/step - loss: 0.4284 - accuracy: 0.8623 - val_loss: 0.5436 - val_accuracy: 0.8297\n",
      "Epoch 4/20\n",
      "450/450 [==============================] - 9s 20ms/step - loss: 0.2414 - accuracy: 0.9288 - val_loss: 0.4397 - val_accuracy: 0.8567\n",
      "Epoch 5/20\n",
      "450/450 [==============================] - 8s 18ms/step - loss: 0.1538 - accuracy: 0.9569 - val_loss: 0.4859 - val_accuracy: 0.8581\n",
      "Epoch 6/20\n",
      "450/450 [==============================] - 8s 19ms/step - loss: 0.1136 - accuracy: 0.9682 - val_loss: 0.4455 - val_accuracy: 0.8637\n",
      "Epoch 7/20\n",
      "450/450 [==============================] - 9s 19ms/step - loss: 0.0908 - accuracy: 0.9729 - val_loss: 0.4754 - val_accuracy: 0.8639\n",
      "Epoch 8/20\n",
      "450/450 [==============================] - 10s 22ms/step - loss: 0.0677 - accuracy: 0.9807 - val_loss: 0.5112 - val_accuracy: 0.8626\n",
      "Epoch 9/20\n",
      "450/450 [==============================] - 9s 20ms/step - loss: 0.0545 - accuracy: 0.9840 - val_loss: 0.5189 - val_accuracy: 0.8606\n",
      "Epoch 10/20\n",
      "450/450 [==============================] - 9s 20ms/step - loss: 0.0498 - accuracy: 0.9844 - val_loss: 0.5214 - val_accuracy: 0.8592\n",
      "Epoch 11/20\n",
      "450/450 [==============================] - 10s 21ms/step - loss: 0.0472 - accuracy: 0.9857 - val_loss: 0.5069 - val_accuracy: 0.8676\n",
      "Epoch 12/20\n",
      "450/450 [==============================] - 10s 22ms/step - loss: 0.0357 - accuracy: 0.9894 - val_loss: 0.5884 - val_accuracy: 0.8565\n",
      "Epoch 13/20\n",
      "450/450 [==============================] - 9s 20ms/step - loss: 0.0380 - accuracy: 0.9887 - val_loss: 0.6016 - val_accuracy: 0.8606\n",
      "Epoch 14/20\n",
      "450/450 [==============================] - 9s 20ms/step - loss: 0.0322 - accuracy: 0.9901 - val_loss: 0.5970 - val_accuracy: 0.8594\n",
      "Epoch 15/20\n",
      "450/450 [==============================] - 9s 20ms/step - loss: 0.0245 - accuracy: 0.9922 - val_loss: 0.6386 - val_accuracy: 0.8612\n",
      "Epoch 16/20\n",
      "450/450 [==============================] - 9s 20ms/step - loss: 0.0227 - accuracy: 0.9929 - val_loss: 0.6311 - val_accuracy: 0.8606\n",
      "Epoch 17/20\n",
      "450/450 [==============================] - 9s 19ms/step - loss: 0.0232 - accuracy: 0.9919 - val_loss: 0.6682 - val_accuracy: 0.8507\n",
      "Epoch 18/20\n",
      "450/450 [==============================] - 9s 20ms/step - loss: 0.0330 - accuracy: 0.9897 - val_loss: 0.6143 - val_accuracy: 0.8611\n",
      "Epoch 19/20\n",
      "450/450 [==============================] - 9s 19ms/step - loss: 0.0240 - accuracy: 0.9922 - val_loss: 0.6587 - val_accuracy: 0.8592\n",
      "Epoch 20/20\n",
      "450/450 [==============================] - 9s 19ms/step - loss: 0.0176 - accuracy: 0.9940 - val_loss: 0.6734 - val_accuracy: 0.8578\n"
     ]
    },
    {
     "data": {
      "text/plain": [
       "<keras.callbacks.History at 0x7fabecaf2b80>"
      ]
     },
     "execution_count": 28,
     "metadata": {},
     "output_type": "execute_result"
    }
   ],
   "source": [
    "model.fit(x_train, y_train, validation_data=(x_test, y_test), batch_size=32, epochs=20)"
   ]
  },
  {
   "cell_type": "code",
   "execution_count": 29,
   "metadata": {},
   "outputs": [
    {
     "name": "stdout",
     "output_type": "stream",
     "text": [
      "222/222 [==============================] - 1s 5ms/step - loss: 0.6734 - accuracy: 0.8578\n",
      "Accuracy: 0.857808530330658\n"
     ]
    }
   ],
   "source": [
    "scores = model.evaluate(x_test, y_test)\n",
    "print(f'Accuracy: {scores[1]}')"
   ]
  }
 ],
 "metadata": {
  "interpreter": {
   "hash": "f9f85f796d01129d0dd105a088854619f454435301f6ffec2fea96ecbd9be4ac"
  },
  "kernelspec": {
   "display_name": "Python 3.9.9 64-bit",
   "language": "python",
   "name": "python3"
  },
  "language_info": {
   "codemirror_mode": {
    "name": "ipython",
    "version": 3
   },
   "file_extension": ".py",
   "mimetype": "text/x-python",
   "name": "python",
   "nbconvert_exporter": "python",
   "pygments_lexer": "ipython3",
   "version": "3.9.9"
  },
  "orig_nbformat": 4
 },
 "nbformat": 4,
 "nbformat_minor": 2
}
