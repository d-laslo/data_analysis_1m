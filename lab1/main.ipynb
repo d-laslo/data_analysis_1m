{
 "cells": [
  {
   "cell_type": "code",
   "execution_count": 23,
   "source": [
    "import numpy as np\n",
    "import sympy as sym \n",
    "import matplotlib.pyplot as plt"
   ],
   "outputs": [],
   "metadata": {}
  },
  {
   "cell_type": "markdown",
   "source": [
    "# Linear regression"
   ],
   "metadata": {}
  },
  {
   "cell_type": "code",
   "execution_count": 24,
   "source": [
    "def linear_regression(x: np.array, y: np.array) -> np.array:\n",
    "  if (x.shape[0] != y.shape[0]):\n",
    "      raise ValueError   \n",
    "  x = np.column_stack(( np.ones(x.shape[0]), x ))\n",
    "  w = sym.symbols(f'w:{x.shape[1]}')\n",
    "  J = np.sum((y - np.dot(x, w))**2)\n",
    "  result = sym.solve([sym.diff(J, w_index) for w_index in w], w)\n",
    "  return np.array([result[w_index] for w_index in w])"
   ],
   "outputs": [],
   "metadata": {}
  },
  {
   "cell_type": "code",
   "execution_count": 25,
   "source": [
    "def linear_regression_gradient(x: np.array, y: np.array, start_vec: np.array, e: float = 0.1) -> np.array:\n",
    "    if (x.shape[0] != y.shape[0]):\n",
    "        raise ValueError   \n",
    "    x = np.column_stack(( np.ones(x.shape[0]), x ))\n",
    "    w = sym.symbols(f'w:{x.shape[1]}')\n",
    "\n",
    "    J = np.sum((y - np.dot(x, w))**2)\n",
    "    grad_J = [sym.diff(J, symbol) for symbol in w]\n",
    "\n",
    "    vec = np.array([float(i) for i in start_vec])\n",
    "    res = np.array([float(j.subs({s: n for s, n in zip(w, vec)})) for j in grad_J])\n",
    "    i = 0\n",
    "    while (np.linalg.norm(res) > e):\n",
    "        vec -= step(vec, res, J, w) * res #step * res\n",
    "        res = np.array([float(j.subs({s: n for s, n in zip(w, vec)})) for j in grad_J])\n",
    "    return vec    \n",
    "\n",
    "def step(vec, res, J, w):\n",
    "    lmbd = sym.symbols('lmbd')\n",
    "    return float(sym.solve(\n",
    "        sym.diff(J.subs({s: r for s, r in zip(w, vec - lmbd * res)})), \n",
    "        lmbd\n",
    "    )[0])"
   ],
   "outputs": [],
   "metadata": {}
  },
  {
   "cell_type": "code",
   "execution_count": 26,
   "source": [
    "size = 100\n",
    "a = 0.1654132654\n",
    "b = 1"
   ],
   "outputs": [],
   "metadata": {}
  },
  {
   "cell_type": "code",
   "execution_count": 27,
   "source": [
    "x = np.array(range(size))\n",
    "y = np.array([b + a * i for i in x]) + np.random.normal(0, 1, size)"
   ],
   "outputs": [],
   "metadata": {}
  },
  {
   "cell_type": "code",
   "execution_count": 28,
   "source": [
    "res = linear_regression(x, y)\n",
    "print(f'{res=}')"
   ],
   "outputs": [
    {
     "output_type": "stream",
     "name": "stdout",
     "text": [
      "res=array([1.21465682078231, 0.163412324406990], dtype=object)\n"
     ]
    }
   ],
   "metadata": {}
  },
  {
   "cell_type": "code",
   "execution_count": 29,
   "source": [
    "res_grad = linear_regression_gradient(x, y, [1, 1], e=0.001)\n",
    "print(f'{res_grad=}')"
   ],
   "outputs": [
    {
     "output_type": "stream",
     "name": "stdout",
     "text": [
      "res_grad=array([1.21465552, 0.16341234])\n"
     ]
    }
   ],
   "metadata": {}
  },
  {
   "cell_type": "code",
   "execution_count": 30,
   "source": [
    "f = np.array([res_grad[0] + i * res_grad[1] for i in x])\n",
    "print(f)"
   ],
   "outputs": [
    {
     "output_type": "stream",
     "name": "stdout",
     "text": [
      "[ 1.21465552  1.37806786  1.5414802   1.70489255  1.86830489  2.03171724\n",
      "  2.19512958  2.35854192  2.52195427  2.68536661  2.84877896  3.0121913\n",
      "  3.17560364  3.33901599  3.50242833  3.66584068  3.82925302  3.99266537\n",
      "  4.15607771  4.31949005  4.4829024   4.64631474  4.80972709  4.97313943\n",
      "  5.13655177  5.29996412  5.46337646  5.62678881  5.79020115  5.95361349\n",
      "  6.11702584  6.28043818  6.44385053  6.60726287  6.77067521  6.93408756\n",
      "  7.0974999   7.26091225  7.42432459  7.58773693  7.75114928  7.91456162\n",
      "  8.07797397  8.24138631  8.40479866  8.568211    8.73162334  8.89503569\n",
      "  9.05844803  9.22186038  9.38527272  9.54868506  9.71209741  9.87550975\n",
      " 10.0389221  10.20233444 10.36574678 10.52915913 10.69257147 10.85598382\n",
      " 11.01939616 11.1828085  11.34622085 11.50963319 11.67304554 11.83645788\n",
      " 11.99987023 12.16328257 12.32669491 12.49010726 12.6535196  12.81693195\n",
      " 12.98034429 13.14375663 13.30716898 13.47058132 13.63399367 13.79740601\n",
      " 13.96081835 14.1242307  14.28764304 14.45105539 14.61446773 14.77788007\n",
      " 14.94129242 15.10470476 15.26811711 15.43152945 15.5949418  15.75835414\n",
      " 15.92176648 16.08517883 16.24859117 16.41200352 16.57541586 16.7388282\n",
      " 16.90224055 17.06565289 17.22906524 17.39247758]\n"
     ]
    }
   ],
   "metadata": {}
  },
  {
   "cell_type": "code",
   "execution_count": 31,
   "source": [
    "plt.scatter(x, y, s=2, c='blue')\n",
    "plt.plot(f, c='red')\n",
    "plt.grid(True)\n",
    "plt.show()"
   ],
   "outputs": [
    {
     "output_type": "display_data",
     "data": {
      "image/png": "[encoded data removed]",
      "text/plain": [
       "<Figure size 432x288 with 1 Axes>"
      ]
     },
     "metadata": {
      "needs_background": "light"
     }
    }
   ],
   "metadata": {}
  },
  {
   "cell_type": "markdown",
   "source": [
    "# Logistic regression"
   ],
   "metadata": {}
  },
  {
   "cell_type": "code",
   "execution_count": 32,
   "source": [
    "from sklearn.linear_model import LogisticRegression\n",
    "from sklearn.datasets import make_classification\n",
    "sigmoid = lambda z: 1 / (1 + sym.exp(-z)) \n"
   ],
   "outputs": [],
   "metadata": {}
  },
  {
   "cell_type": "code",
   "execution_count": 42,
   "source": [
    "def logistic_regression(x: np.array, y: np.array, start_vec: np.array, e: float = 0.1) -> np.array:\n",
    "    if (x.shape[0] != y.shape[0]):\n",
    "        raise ValueError   \n",
    "    x = np.column_stack(( np.ones(x.shape[0]), x ))\n",
    "    w = sym.symbols(f'w:{x.shape[1]}')\n",
    "\n",
    "    fsigma = lambda z: 1 / (1 + sym.exp(-z)) \n",
    "    f = lambda z, y: -y * sym.log(fsigma(z)) - (1 - y) * sym.log(1 - fsigma(z))\n",
    "    J = np.sum([f(_z, _y) for _z, _y in zip(np.dot(x, w), y)])\n",
    "\n",
    "    grad_J = [sym.diff(J, symbol) for symbol in w]\n",
    "\n",
    "    vec = np.array([float(i) for i in start_vec])\n",
    "    res = np.array([float(j.subs({s: n for s, n in zip(w, vec)})) for j in grad_J])\n",
    "    while (np.linalg.norm(res) > e):\n",
    "        vec -= 0.1 * res\n",
    "        res = np.array([float(j.subs({s: n for s, n in zip(w, vec)})) for j in grad_J])\n",
    "    return vec\n",
    "\n",
    "def accuracy(x, y, parameters):\n",
    "    if (x.shape[0] != y.shape[0]):\n",
    "        raise ValueError\n",
    "    x = np.column_stack(( np.ones(x.shape[0]), x ))\n",
    "\n",
    "    _y = [1 if prob > 0.5 else 0 for prob in np.dot(x, parameters)]\n",
    "\n",
    "    return np.sum(y == _y) / y.shape[0]\n"
   ],
   "outputs": [],
   "metadata": {}
  },
  {
   "cell_type": "code",
   "execution_count": 43,
   "source": [
    "x, y = make_classification(200, 2, 2, 0, weights=[.5, .5], random_state=42)\n",
    "res_grad = logistic_regression(x[:100,], y[:100], [1, 1, 1], e=0.001)"
   ],
   "outputs": [],
   "metadata": {}
  },
  {
   "cell_type": "code",
   "execution_count": 44,
   "source": [
    "print(accuracy(x[100:,], y[100:], res_grad))"
   ],
   "outputs": [
    {
     "output_type": "stream",
     "name": "stdout",
     "text": [
      "0.81\n"
     ]
    }
   ],
   "metadata": {}
  },
  {
   "cell_type": "code",
   "execution_count": 39,
   "source": [
    "_, ax = plt.subplots(figsize=(8, 6))\n",
    "ax.scatter(x[100:,0], x[100:, 1], c=y[100:], s=50,\n",
    "           cmap=\"RdBu\", vmin=-.2, vmax=1.2,\n",
    "           edgecolor=\"white\", linewidth=1)"
   ],
   "outputs": [
    {
     "output_type": "execute_result",
     "data": {
      "text/plain": [
       "<matplotlib.collections.PathCollection at 0x7fbebc68fc10>"
      ]
     },
     "metadata": {},
     "execution_count": 39
    },
    {
     "output_type": "display_data",
     "data": {
      "image/png": "[encoded data removed]",
      "text/plain": [
       "<Figure size 576x432 with 1 Axes>"
      ]
     },
     "metadata": {
      "needs_background": "light"
     }
    }
   ],
   "metadata": {}
  },
  {
   "cell_type": "code",
   "execution_count": null,
   "source": [],
   "outputs": [],
   "metadata": {}
  }
 ],
 "metadata": {
  "orig_nbformat": 4,
  "language_info": {
   "name": "python",
   "version": "3.9.5",
   "mimetype": "text/x-python",
   "codemirror_mode": {
    "name": "ipython",
    "version": 3
   },
   "pygments_lexer": "ipython3",
   "nbconvert_exporter": "python",
   "file_extension": ".py"
  },
  "kernelspec": {
   "name": "python3",
   "display_name": "Python 3.9.5 64-bit"
  },
  "interpreter": {
   "hash": "36cf16204b8548560b1c020c4e8fb5b57f0e4c58016f52f2d4be01e192833930"
  }
 },
 "nbformat": 4,
 "nbformat_minor": 2
}