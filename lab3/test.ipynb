{
 "cells": [
  {
   "cell_type": "code",
   "execution_count": 26,
   "metadata": {},
   "outputs": [],
   "source": [
    "import nltk\n",
    "from nltk.stem import WordNetLemmatizer \n",
    "from nltk.tokenize import sent_tokenize, word_tokenize\n",
    "from nltk.corpus import stopwords\n",
    "from wordcloud import WordCloud, STOPWORDS, ImageColorGenerator\n",
    "from sklearn.feature_extraction.text import TfidfVectorizer\n",
    "import pandas as pd\n",
    "import numpy as np\n",
    "from sklearn.model_selection import train_test_split\n",
    "stopWords = set(stopwords.words('english'))"
   ]
  },
  {
   "cell_type": "code",
   "execution_count": 27,
   "metadata": {},
   "outputs": [],
   "source": [
    "df = pd.read_csv('Emotion_final.csv')"
   ]
  },
  {
   "cell_type": "code",
   "execution_count": 28,
   "metadata": {},
   "outputs": [],
   "source": [
    "labels = sorted(list(set(df.Emotion)))\n",
    "for i in range(len(labels)):\n",
    "    df.Emotion[df.Emotion == labels[i]] = i"
   ]
  },
  {
   "cell_type": "code",
   "execution_count": 29,
   "metadata": {},
   "outputs": [
    {
     "data": {
      "text/plain": [
       "{0: 'anger', 1: 'fear', 2: 'happy', 3: 'love', 4: 'sadness', 5: 'surprise'}"
      ]
     },
     "execution_count": 29,
     "metadata": {},
     "output_type": "execute_result"
    }
   ],
   "source": [
    "labels_map = {i: labels[i] for i in range(len(labels))}\n",
    "labels_map"
   ]
  },
  {
   "cell_type": "code",
   "execution_count": 30,
   "metadata": {},
   "outputs": [],
   "source": [
    "def tokenizer(text):\n",
    "    tokenized_list = []\n",
    "\n",
    "    # t = ['feel', 'feeling']\n",
    "\n",
    "    lemantaizer = WordNetLemmatizer()\n",
    "    t = nltk.word_tokenize(text)\n",
    "    for word in nltk.word_tokenize(text):\n",
    "        if word.isalpha():\n",
    "            word=word.lower()\n",
    "            word=lemantaizer.lemmatize(word)\n",
    "            if word not in stopWords or word not in t:    \n",
    "                tokenized_list.append(word)\n",
    "    return ' '.join(tokenized_list)"
   ]
  },
  {
   "cell_type": "code",
   "execution_count": 31,
   "metadata": {},
   "outputs": [],
   "source": [
    "for i in range(len(df)):\n",
    "    df.Text[i] = tokenizer(df.Text[i])\n",
    "\n",
    "# for i in range(len(df_test)):\n",
    "#     df_test.Message_body[i] = tokenizer(df.Message_body[i])"
   ]
  },
  {
   "cell_type": "code",
   "execution_count": 32,
   "metadata": {},
   "outputs": [],
   "source": [
    "X = df['Text']\n",
    "y = df['Emotion']\n",
    "\n",
    "X_train, X_test, y_train, y_test = train_test_split(X, y, test_size=0.33, random_state=42)\n"
   ]
  },
  {
   "cell_type": "code",
   "execution_count": 33,
   "metadata": {},
   "outputs": [],
   "source": [
    "vectorizer = TfidfVectorizer(stop_words='english')\n",
    "\n",
    "tf_idf = vectorizer.fit(X_train)\n",
    "\n",
    "X_train = tf_idf.transform(X_train)\n",
    "X_test = tf_idf.transform(X_test)"
   ]
  },
  {
   "cell_type": "code",
   "execution_count": 34,
   "metadata": {},
   "outputs": [
    {
     "name": "stdout",
     "output_type": "stream",
     "text": [
      "              precision    recall  f1-score   support\n",
      "\n",
      "           0       0.92      0.83      0.87       993\n",
      "           1       0.85      0.82      0.84       871\n",
      "           2       0.84      0.94      0.89      2279\n",
      "           3       0.86      0.71      0.78       550\n",
      "           4       0.90      0.89      0.90      2110\n",
      "           5       0.79      0.73      0.76       279\n",
      "\n",
      "    accuracy                           0.87      7082\n",
      "   macro avg       0.86      0.82      0.84      7082\n",
      "weighted avg       0.87      0.87      0.87      7082\n",
      "\n"
     ]
    }
   ],
   "source": [
    "from sklearn.ensemble import RandomForestClassifier\n",
    "from sklearn.metrics import classification_report\n",
    "forest = RandomForestClassifier(n_estimators=300, max_depth=300).fit(X_train, y_train.astype(np.int64))\n",
    "\n",
    "# pred = forest.predict(X_train)\n",
    "# print(classification_report(y_train.astype(np.int64), pred))\n",
    "pred = forest.predict(X_test)\n",
    "print(classification_report(y_test.astype(np.int64), pred))"
   ]
  },
  {
   "cell_type": "code",
   "execution_count": null,
   "metadata": {},
   "outputs": [],
   "source": []
  },
  {
   "cell_type": "markdown",
   "metadata": {},
   "source": [
    "# LDA"
   ]
  },
  {
   "cell_type": "code",
   "execution_count": 35,
   "metadata": {},
   "outputs": [],
   "source": [
    "idfs = tf_idf.idf_"
   ]
  }
 ],
 "metadata": {
  "interpreter": {
   "hash": "f9f85f796d01129d0dd105a088854619f454435301f6ffec2fea96ecbd9be4ac"
  },
  "kernelspec": {
   "display_name": "Python 3.9.7 64-bit",
   "language": "python",
   "name": "python3"
  },
  "language_info": {
   "codemirror_mode": {
    "name": "ipython",
    "version": 3
   },
   "file_extension": ".py",
   "mimetype": "text/x-python",
   "name": "python",
   "nbconvert_exporter": "python",
   "pygments_lexer": "ipython3",
   "version": "3.9.7"
  },
  "orig_nbformat": 4
 },
 "nbformat": 4,
 "nbformat_minor": 2
}
